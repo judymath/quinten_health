{
 "cells": [
  {
   "cell_type": "markdown",
   "metadata": {},
   "source": [
    "### Imports"
   ]
  },
  {
   "cell_type": "code",
   "execution_count": 1,
   "metadata": {},
   "outputs": [],
   "source": [
    "# Packages\n",
    "from dotenv import load_dotenv\n",
    "import os\n",
    "import pandas as pd\n",
    "import numpy as np\n",
    "from langchain import PromptTemplate\n",
    "from langchain.chains import LLMChain\n",
    "from langchain.chat_models import AzureChatOpenAI\n",
    "from langchain.llms import AzureOpenAI"
   ]
  },
  {
   "cell_type": "code",
   "execution_count": 2,
   "metadata": {},
   "outputs": [],
   "source": [
    "# Load environment variables from .env file\n",
    "load_dotenv()\n",
    "\n",
    "# Azure OpenAI API\n",
    "os.environ[\"OPENAI_API_TYPE\"] = \"azure\"\n",
    "os.environ[\"OPENAI_API_VERSION\"] = \"2023-03-15-preview\"\n",
    "os.environ[\"OPENAI_API_BASE\"] = os.getenv('openai_base')\n",
    "os.environ[\"OPENAI_API_KEY\"] = os.getenv('openai_key')"
   ]
  },
  {
   "cell_type": "markdown",
   "metadata": {},
   "source": [
    "### Topic extraction functions"
   ]
  },
  {
   "cell_type": "code",
   "execution_count": 3,
   "metadata": {},
   "outputs": [],
   "source": [
    "def gpt_analyze(comment):\n",
    "    llm = AzureChatOpenAI(deployment_name=\"gpt-35-turbo\", model_name=\"gpt-35-turbo\", temperature=0.1)\n",
    "\n",
    "    template = \"\"\"\n",
    "    You will be given a patient's comment about their drug treatment.\n",
    "    In the comment, please identify the main categories of side effects listed by the patient, and return them as a Python list (ex: ['chest pain', 'rash']).\n",
    "    Act step by step. Remember to return a python list.\n",
    "    If there are no side effects listed in the comment, simply return an empty Python list ([]).\n",
    "    Act step by step and return a Python list, not a text list.\n",
    "\n",
    "    COMMENT:\n",
    "\n",
    "    {comment}\n",
    "\n",
    "    MAIN SIDE EFFECTS:\n",
    "    \"\"\"\n",
    "\n",
    "    prompt = PromptTemplate(template=template, input_variables=[\"comment\"])\n",
    "    llm_chain = LLMChain(prompt=prompt, llm=llm)\n",
    "    answer = llm_chain(comment)\n",
    "    return(answer['text'])"
   ]
  },
  {
   "cell_type": "code",
   "execution_count": 4,
   "metadata": {},
   "outputs": [],
   "source": [
    "def topic_extract(analysis):\n",
    "    llm = AzureOpenAI(deployment_name=\"text-davinci-003\", model_name=\"text-davinci-003\", temperature=0.1)\n",
    "\n",
    "    template = \"\"\"\n",
    "    You are an assistant helping to classify topics within the following text: {analysis}\n",
    "    Your objective is to find the kinds of topics mentionned in the text.\n",
    "    \n",
    "    The different kinds of topics are:\n",
    "    - No side effect: return 0\n",
    "    - Fatigue (or sleepiness, tiredness, no energy): return 1\n",
    "    - Diarrhea: return 2\n",
    "    - Arthralgia (and anything related to joint pain): return 3\n",
    "    - Headaches: return 4\n",
    "    - Nausea: return 5\n",
    "    - Rash (and anything related to skin problems): return 6\n",
    "    - Hair loss: return 7\n",
    "    - Constipation: return 8\n",
    "    - Mental health issues (depression, ...): return 9\n",
    "    - Leg cramps (and anything related to muscle pain): return 10\n",
    "    - Heart or blood pressure issues : return 11\n",
    "    - Liver or kidney pain: return 12\n",
    "    - Weight loss: return 13\n",
    "    - Weight gain: return 14\n",
    "\n",
    "    Act step by step.\n",
    "\n",
    "    Return only the topics numbers.\n",
    "    \"\"\"\n",
    "\n",
    "    prompt = PromptTemplate(template=template, input_variables=[\"analysis\"])\n",
    "    llm_chain = LLMChain(prompt=prompt, llm=llm)\n",
    "    answer = llm_chain(analysis)\n",
    "    return(answer['text'])"
   ]
  },
  {
   "cell_type": "markdown",
   "metadata": {},
   "source": [
    "### Creating the dataframe"
   ]
  },
  {
   "cell_type": "code",
   "execution_count": 5,
   "metadata": {},
   "outputs": [
    {
     "name": "stderr",
     "output_type": "stream",
     "text": [
      "Retrying langchain.llms.openai.completion_with_retry.<locals>._completion_with_retry in 4.0 seconds as it raised ServiceUnavailableError: The server is overloaded or not ready yet..\n"
     ]
    }
   ],
   "source": [
    "df = pd.read_csv(\"data/raw_data_healthcare.csv\")\n",
    "\n",
    "# Drop text_index column\n",
    "df.drop(columns=\"text_index\", inplace=True)\n",
    "\n",
    "# Select only comments for Crohn's Disease and Ulcerative Colitis\n",
    "df = df.loc[df[\"medication\"].str.contains(\"Crohn\") | df[\"medication\"].str.contains(\"Ulcerative\")]\n",
    "\n",
    "# Drop rows where medication is not specified\n",
    "df = df.loc[~df[\"medication\"].str.contains(\"For\")]\n",
    "\n",
    "# Separate drug from disease\n",
    "df[\"drug\"] = df[\"medication\"].str.split(\"for\").str[0]\n",
    "df[\"disease\"] = np.where(df[\"medication\"].str.contains(\"Crohn\"), \"Crohn's Disease\",\n",
    "                         np.where(df[\"medication\"].str.contains(\"Ulcerative\"), \"Ulcerative Colitis\", \"\"))\n",
    "df.drop(columns=\"medication\", inplace=True)\n",
    "\n",
    "# Drop row n°3 (triggering OpenAI's policy)\n",
    "y = df.iloc[3]\n",
    "df = df.drop(3)\n",
    "\n",
    "# Apply gpt analysis function to each comment\n",
    "df['gpt_analysis'] = df['comment'].apply(gpt_analyze)\n",
    "\n",
    "# Apply topic extraction function to each gpt_analysis\n",
    "df['topics'] = df['gpt_analysis'].apply(topic_extract)\n",
    "\n",
    "# Apply topic extraction function to each gpt_analysis\n",
    "df[\"no_side_effects\"] = df[\"topics\"].str.contains(\" 0|Ex\") & ~df[\"topics\"].str.contains(\", 0|0,\")\n",
    "df[\"fatigue\"] = (df[\"topics\"].str.contains(\"1\") & ~df[\"topics\"].str.contains(\"10|11|12|13|14\")) | df[\"topics\"].str.contains(\"1,\")\n",
    "df[\"diarrhea\"] = (df[\"topics\"].str.contains(\"2\") & ~df[\"topics\"].str.contains(\"12\")) | (df[\"topics\"].str.contains(\"2,\") & ~df[\"topics\"].str.contains(\"12,\"))\n",
    "df[\"arthralgia\"] = (df[\"topics\"].str.contains(\"3\") & ~df[\"topics\"].str.contains(\"13\")) | (df[\"topics\"].str.contains(\"3,\") & ~df[\"topics\"].str.contains(\"13,\"))\n",
    "df[\"headaches\"] = (df[\"topics\"].str.contains(\"4\") & ~df[\"topics\"].str.contains(\"14\")) | (df[\"topics\"].str.contains(\"4,\") & ~df[\"topics\"].str.contains(\"14,\"))\n",
    "df[\"nausea\"] = df[\"topics\"].str.contains(\"5\")\n",
    "df[\"rash\"] = df[\"topics\"].str.contains(\"6\")\n",
    "df[\"hair loss\"] = df[\"topics\"].str.contains(\"7\")\n",
    "df[\"constipation\"] = df[\"topics\"].str.contains(\"8\")\n",
    "df[\"mental_health_issues\"] = df[\"topics\"].str.contains(\"9\")\n",
    "df[\"leg_cramps\"] = df[\"topics\"].str.contains(\"10\")\n",
    "df[\"heart_blood_pressure_issues\"] = df[\"topics\"].str.contains(\"11\")\n",
    "df[\"liver_kidney_pain\"] = df[\"topics\"].str.contains(\"12\")\n",
    "df[\"weight_loss\"] = df[\"topics\"].str.contains(\"13\")\n",
    "df[\"weight_gain\"] = df[\"topics\"].str.contains(\"14\")\n",
    "\n",
    "# Save DataFrame to CSV file\n",
    "df.to_csv(\"output.csv\", index=False)"
   ]
  }
 ],
 "metadata": {
  "kernelspec": {
   "display_name": "topic",
   "language": "python",
   "name": "python3"
  },
  "language_info": {
   "codemirror_mode": {
    "name": "ipython",
    "version": 3
   },
   "file_extension": ".py",
   "mimetype": "text/x-python",
   "name": "python",
   "nbconvert_exporter": "python",
   "pygments_lexer": "ipython3",
   "version": "3.10.10"
  }
 },
 "nbformat": 4,
 "nbformat_minor": 2
}
