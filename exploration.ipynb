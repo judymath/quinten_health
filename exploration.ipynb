{
 "cells": [
  {
   "cell_type": "code",
   "execution_count": 1,
   "metadata": {},
   "outputs": [],
   "source": [
    "import pandas as pd"
   ]
  },
  {
   "cell_type": "code",
   "execution_count": 2,
   "metadata": {},
   "outputs": [],
   "source": [
    "df = pd.read_csv(\"data/raw_data_healthcare.csv\")\n",
    "df.drop(columns=\"text_index\", inplace=True)"
   ]
  },
  {
   "cell_type": "code",
   "execution_count": 3,
   "metadata": {},
   "outputs": [
    {
     "name": "stdout",
     "output_type": "stream",
     "text": [
      "<class 'pandas.core.frame.DataFrame'>\n",
      "RangeIndex: 784 entries, 0 to 783\n",
      "Data columns (total 3 columns):\n",
      " #   Column      Non-Null Count  Dtype  \n",
      "---  ------      --------------  -----  \n",
      " 0   medication  784 non-null    object \n",
      " 1   rate        743 non-null    float64\n",
      " 2   comment     784 non-null    object \n",
      "dtypes: float64(1), object(2)\n",
      "memory usage: 18.5+ KB\n"
     ]
    }
   ],
   "source": [
    "df.info()"
   ]
  },
  {
   "cell_type": "code",
   "execution_count": 4,
   "metadata": {},
   "outputs": [
    {
     "data": {
      "text/html": [
       "<div>\n",
       "<style scoped>\n",
       "    .dataframe tbody tr th:only-of-type {\n",
       "        vertical-align: middle;\n",
       "    }\n",
       "\n",
       "    .dataframe tbody tr th {\n",
       "        vertical-align: top;\n",
       "    }\n",
       "\n",
       "    .dataframe thead th {\n",
       "        text-align: right;\n",
       "    }\n",
       "</style>\n",
       "<table border=\"1\" class=\"dataframe\">\n",
       "  <thead>\n",
       "    <tr style=\"text-align: right;\">\n",
       "      <th></th>\n",
       "      <th>rate</th>\n",
       "    </tr>\n",
       "  </thead>\n",
       "  <tbody>\n",
       "    <tr>\n",
       "      <th>count</th>\n",
       "      <td>743.000000</td>\n",
       "    </tr>\n",
       "    <tr>\n",
       "      <th>mean</th>\n",
       "      <td>7.122476</td>\n",
       "    </tr>\n",
       "    <tr>\n",
       "      <th>std</th>\n",
       "      <td>3.352164</td>\n",
       "    </tr>\n",
       "    <tr>\n",
       "      <th>min</th>\n",
       "      <td>1.000000</td>\n",
       "    </tr>\n",
       "    <tr>\n",
       "      <th>25%</th>\n",
       "      <td>4.000000</td>\n",
       "    </tr>\n",
       "    <tr>\n",
       "      <th>50%</th>\n",
       "      <td>9.000000</td>\n",
       "    </tr>\n",
       "    <tr>\n",
       "      <th>75%</th>\n",
       "      <td>10.000000</td>\n",
       "    </tr>\n",
       "    <tr>\n",
       "      <th>max</th>\n",
       "      <td>10.000000</td>\n",
       "    </tr>\n",
       "  </tbody>\n",
       "</table>\n",
       "</div>"
      ],
      "text/plain": [
       "             rate\n",
       "count  743.000000\n",
       "mean     7.122476\n",
       "std      3.352164\n",
       "min      1.000000\n",
       "25%      4.000000\n",
       "50%      9.000000\n",
       "75%     10.000000\n",
       "max     10.000000"
      ]
     },
     "execution_count": 4,
     "metadata": {},
     "output_type": "execute_result"
    }
   ],
   "source": [
    "df.describe()"
   ]
  },
  {
   "cell_type": "code",
   "execution_count": 5,
   "metadata": {},
   "outputs": [
    {
     "data": {
      "text/html": [
       "<div>\n",
       "<style scoped>\n",
       "    .dataframe tbody tr th:only-of-type {\n",
       "        vertical-align: middle;\n",
       "    }\n",
       "\n",
       "    .dataframe tbody tr th {\n",
       "        vertical-align: top;\n",
       "    }\n",
       "\n",
       "    .dataframe thead th {\n",
       "        text-align: right;\n",
       "    }\n",
       "</style>\n",
       "<table border=\"1\" class=\"dataframe\">\n",
       "  <thead>\n",
       "    <tr style=\"text-align: right;\">\n",
       "      <th></th>\n",
       "      <th>medication</th>\n",
       "      <th>rate</th>\n",
       "      <th>comment</th>\n",
       "    </tr>\n",
       "  </thead>\n",
       "  <tbody>\n",
       "    <tr>\n",
       "      <th>0</th>\n",
       "      <td>Inflectra (infliximab) for Crohn's Disease</td>\n",
       "      <td>1.0</td>\n",
       "      <td>Insurance forced me to switch to inflectra due...</td>\n",
       "    </tr>\n",
       "    <tr>\n",
       "      <th>1</th>\n",
       "      <td>Remicade (infliximab) for Rheumatoid Arthritis</td>\n",
       "      <td>NaN</td>\n",
       "      <td>My wife had RA from when she was a child. She ...</td>\n",
       "    </tr>\n",
       "    <tr>\n",
       "      <th>2</th>\n",
       "      <td>Remicade (infliximab) for Ulcerative Colitis</td>\n",
       "      <td>1.0</td>\n",
       "      <td>This medication Remicade made me in constant p...</td>\n",
       "    </tr>\n",
       "    <tr>\n",
       "      <th>3</th>\n",
       "      <td>Inflectra (infliximab) for Crohn's Disease</td>\n",
       "      <td>1.0</td>\n",
       "      <td>I have Fistulizing Crohn's, dx'd 6 yrs ago @ 3...</td>\n",
       "    </tr>\n",
       "    <tr>\n",
       "      <th>4</th>\n",
       "      <td>Remicade (infliximab) for Ulcerative Colitis</td>\n",
       "      <td>10.0</td>\n",
       "      <td>Remicade literally gave me my life back 9 yrs ...</td>\n",
       "    </tr>\n",
       "    <tr>\n",
       "      <th>...</th>\n",
       "      <td>...</td>\n",
       "      <td>...</td>\n",
       "      <td>...</td>\n",
       "    </tr>\n",
       "    <tr>\n",
       "      <th>779</th>\n",
       "      <td>Tysabri (natalizumab) for Multiple Sclerosis</td>\n",
       "      <td>NaN</td>\n",
       "      <td>Best treatment I have been on yet.</td>\n",
       "    </tr>\n",
       "    <tr>\n",
       "      <th>780</th>\n",
       "      <td>Tysabri (natalizumab) for Multiple Sclerosis</td>\n",
       "      <td>10.0</td>\n",
       "      <td>Tysabri has, so far, ended my relapses.  It ha...</td>\n",
       "    </tr>\n",
       "    <tr>\n",
       "      <th>781</th>\n",
       "      <td>Tysabri (natalizumab) for Multiple Sclerosis</td>\n",
       "      <td>10.0</td>\n",
       "      <td>Tysabri has been wonderful so thankful</td>\n",
       "    </tr>\n",
       "    <tr>\n",
       "      <th>782</th>\n",
       "      <td>Tysabri (natalizumab) for Multiple Sclerosis</td>\n",
       "      <td>5.0</td>\n",
       "      <td>I have had 22 treatments and the last one I ha...</td>\n",
       "    </tr>\n",
       "    <tr>\n",
       "      <th>783</th>\n",
       "      <td>Tysabri (natalizumab) for Multiple Sclerosis</td>\n",
       "      <td>7.0</td>\n",
       "      <td>I've been on it for a number of years and it a...</td>\n",
       "    </tr>\n",
       "  </tbody>\n",
       "</table>\n",
       "<p>784 rows × 3 columns</p>\n",
       "</div>"
      ],
      "text/plain": [
       "                                         medication  rate  \\\n",
       "0        Inflectra (infliximab) for Crohn's Disease   1.0   \n",
       "1    Remicade (infliximab) for Rheumatoid Arthritis   NaN   \n",
       "2      Remicade (infliximab) for Ulcerative Colitis   1.0   \n",
       "3        Inflectra (infliximab) for Crohn's Disease   1.0   \n",
       "4      Remicade (infliximab) for Ulcerative Colitis  10.0   \n",
       "..                                              ...   ...   \n",
       "779    Tysabri (natalizumab) for Multiple Sclerosis   NaN   \n",
       "780    Tysabri (natalizumab) for Multiple Sclerosis  10.0   \n",
       "781    Tysabri (natalizumab) for Multiple Sclerosis  10.0   \n",
       "782    Tysabri (natalizumab) for Multiple Sclerosis   5.0   \n",
       "783    Tysabri (natalizumab) for Multiple Sclerosis   7.0   \n",
       "\n",
       "                                               comment  \n",
       "0    Insurance forced me to switch to inflectra due...  \n",
       "1    My wife had RA from when she was a child. She ...  \n",
       "2    This medication Remicade made me in constant p...  \n",
       "3    I have Fistulizing Crohn's, dx'd 6 yrs ago @ 3...  \n",
       "4    Remicade literally gave me my life back 9 yrs ...  \n",
       "..                                                 ...  \n",
       "779                 Best treatment I have been on yet.  \n",
       "780  Tysabri has, so far, ended my relapses.  It ha...  \n",
       "781             Tysabri has been wonderful so thankful  \n",
       "782  I have had 22 treatments and the last one I ha...  \n",
       "783  I've been on it for a number of years and it a...  \n",
       "\n",
       "[784 rows x 3 columns]"
      ]
     },
     "execution_count": 5,
     "metadata": {},
     "output_type": "execute_result"
    }
   ],
   "source": [
    "df"
   ]
  },
  {
   "cell_type": "code",
   "execution_count": null,
   "metadata": {},
   "outputs": [],
   "source": []
  }
 ],
 "metadata": {
  "kernelspec": {
   "display_name": "base",
   "language": "python",
   "name": "python3"
  },
  "language_info": {
   "codemirror_mode": {
    "name": "ipython",
    "version": 3
   },
   "file_extension": ".py",
   "mimetype": "text/x-python",
   "name": "python",
   "nbconvert_exporter": "python",
   "pygments_lexer": "ipython3",
   "version": "3.10.10"
  }
 },
 "nbformat": 4,
 "nbformat_minor": 2
}
